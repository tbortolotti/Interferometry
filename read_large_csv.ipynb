{
 "cells": [
  {
   "attachments": {},
   "cell_type": "markdown",
   "metadata": {},
   "source": [
    "## Reading large csv file\n"
   ]
  },
  {
   "cell_type": "code",
   "execution_count": 5,
   "metadata": {},
   "outputs": [],
   "source": [
    "import pandas as pd\n",
    "import numpy as np\n",
    "\n",
    "my_seq = np.zeros((601,601,394))\n",
    "\n",
    "chunksize = 2550\n",
    "j=0\n",
    "i=0\n",
    "with pd.read_csv(\"/Users/teresabortolotti/Desktop/IDL/export/seq_2550x2450x392.dat_TopoInterf_CAL_rampe_presenti.csv\", chunksize=chunksize) as reader:\n",
    "    for chunk in reader:\n",
    "        # process(chunk)\n",
    "        if j>=999 and j<=1599:\n",
    "          my_seq[:,i,:] = chunk[600:1201][:]\n",
    "          i = i+1\n",
    "        j = j+1\n",
    "        if j > 1599:\n",
    "           break"
   ]
  },
  {
   "cell_type": "code",
   "execution_count": 7,
   "metadata": {},
   "outputs": [],
   "source": [
    "import pandas as pd\n",
    "import numpy as np\n",
    "\n",
    "my_seq_df = np.zeros((601*601,394))\n",
    "\n",
    "chunksize = 2550\n",
    "j=0\n",
    "i=0\n",
    "with pd.read_csv(\"/Users/teresabortolotti/Desktop/IDL/export/seq_2550x2450x392.dat_TopoInterf_CAL_rampe_presenti.csv\", chunksize=chunksize) as reader:\n",
    "    for chunk in reader:\n",
    "        # process(chunk)\n",
    "        if j>=999 and j<=1599:\n",
    "          idxs = np.arange(i*601,(i+1)*601)\n",
    "          my_seq_df[idxs,:] = chunk[600:1201][:]\n",
    "          i = i+1\n",
    "        j = j+1\n",
    "        if j > 1599:\n",
    "           break"
   ]
  },
  {
   "cell_type": "code",
   "execution_count": 8,
   "metadata": {},
   "outputs": [],
   "source": [
    "np.savetxt(\"/Users/teresabortolotti/Desktop/IDL/export/filtered_sequence.csv\", my_seq_df, delimiter=\",\")"
   ]
  }
 ],
 "metadata": {
  "kernelspec": {
   "display_name": "Python 3",
   "language": "python",
   "name": "python3"
  },
  "language_info": {
   "codemirror_mode": {
    "name": "ipython",
    "version": 3
   },
   "file_extension": ".py",
   "mimetype": "text/x-python",
   "name": "python",
   "nbconvert_exporter": "python",
   "pygments_lexer": "ipython3",
   "version": "3.9.6"
  },
  "orig_nbformat": 4
 },
 "nbformat": 4,
 "nbformat_minor": 2
}
